{
 "cells": [
  {
   "cell_type": "code",
   "execution_count": null,
   "metadata": {},
   "outputs": [],
   "source": [
    "import openai\n",
    "openai.api_key = '<your api key>'"
   ]
  },
  {
   "cell_type": "code",
   "execution_count": null,
   "metadata": {},
   "outputs": [],
   "source": [
    "from pathlib import Path\n",
    "import json\n",
    "import re\n",
    "\n",
    "import editdistance"
   ]
  },
  {
   "cell_type": "code",
   "execution_count": null,
   "metadata": {},
   "outputs": [],
   "source": [
    "model_name = 'gpt-3.5-turbo'"
   ]
  },
  {
   "cell_type": "code",
   "execution_count": null,
   "metadata": {},
   "outputs": [],
   "source": [
    "kwdlc_path = Path('../KWDLC/')  # ひとつ上の階層に kwdlc を置きます\n",
    "pairs = []\n",
    "knp_paths = []\n",
    "\n",
    "for subdir_path in sorted(kwdlc_path.glob('knp/w*')):\n",
    "    subdir_name = subdir_path.name\n",
    "    for fname in sorted(subdir_path.glob('*.knp')):\n",
    "        knp_paths.append(fname)\n",
    "\n",
    "        fstem = fname.stem\n",
    "        org_fname = kwdlc_path / 'org' / subdir_name / (fstem + '.org')\n",
    "        pair = (fname, org_fname)\n",
    "        pairs.append(pair)"
   ]
  },
  {
   "cell_type": "code",
   "execution_count": null,
   "metadata": {},
   "outputs": [],
   "source": [
    "def extract_raw_and_yomi_pair(fname):\n",
    "    sentences = []\n",
    "    sentence = []\n",
    "    for line in open(fname, 'rt').readlines():\n",
    "        line = line.strip()\n",
    "        if re.match('[\\+\\*#]\\s', line):\n",
    "            continue\n",
    "        elif line == 'EOS':\n",
    "            sentences.append(sentence)\n",
    "            sentence = []\n",
    "        else:\n",
    "            surface, yomi, base, info = line.split(' ', 3)\n",
    "            sentence.append((surface, yomi))\n",
    "    return sentences"
   ]
  },
  {
   "cell_type": "code",
   "execution_count": null,
   "metadata": {},
   "outputs": [],
   "source": [
    "docs = []\n",
    "for knp in knp_paths:\n",
    "    sents = extract_raw_and_yomi_pair(knp)\n",
    "    full_sent_pairs = []\n",
    "    for sent in sents:\n",
    "        surface = ''.join([surface for surface, yomi in sent])\n",
    "        yomi = ''.join([yomi for surface, yomi in sent])\n",
    "        full_sent_pairs.append((surface, yomi))\n",
    "    docs.append(full_sent_pairs)"
   ]
  },
  {
   "cell_type": "code",
   "execution_count": null,
   "metadata": {},
   "outputs": [],
   "source": [
    "few_shots = docs[:4]\n",
    "targets = docs[4:]"
   ]
  },
  {
   "cell_type": "code",
   "execution_count": null,
   "metadata": {},
   "outputs": [],
   "source": [
    "\n",
    "def make_surface(doc):\n",
    "    return  '\\n'.join([s for s, y in doc])\n",
    "\n",
    "def make_yomi(doc):\n",
    "    return '\\n'.join([y for s, y in doc])"
   ]
  },
  {
   "cell_type": "code",
   "execution_count": null,
   "metadata": {},
   "outputs": [],
   "source": [
    "instruct_ja = \"\"\"\n",
    "入力文の読み方をひらがな（あいうえお など）および約物（、。！？「」\" など）のみで出力してください。\n",
    "\n",
    "### 条件\n",
    "- 数字の読み方もひらがなで書いてください。\n",
    "- 使っていい文字は、ひらがなと約物だけです。\n",
    "\"\"\"\n",
    "\n",
    "instruct_en = \"\"\"\n",
    "Output the reading of the input sentence using only hiragana (such as あいうえお) and punctuation marks (such as 、。！？「」\" and so on).\n",
    "\n",
    "### Conditions\n",
    "- Write the reading of numbers in hiragana as well.\n",
    "- Only use hiragana and punctuation marks for allowed characters.\n",
    "\"\"\"\n",
    "\n",
    "num = 0\n",
    "if num > 0:\n",
    "    shots = \"### Examples\\n\"\n",
    "    for doc in few_shots[:num]:\n",
    "        surface =make_surface(doc)\n",
    "        yomi = make_yomi(doc)\n",
    "        shots += f\"input:\\n{surface}\\noutput:\\n{yomi}\\n###\\n\"\n",
    "else:\n",
    "    shots = \"\""
   ]
  },
  {
   "cell_type": "code",
   "execution_count": null,
   "metadata": {},
   "outputs": [],
   "source": [
    "print(shots)"
   ]
  },
  {
   "cell_type": "code",
   "execution_count": null,
   "metadata": {},
   "outputs": [],
   "source": [
    "def gpt_predict(system_text, user_text):\n",
    "    output = openai.ChatCompletion.create(\n",
    "        model=model_name,\n",
    "        temperature=0,\n",
    "        messages=[\n",
    "            {\"role\": \"system\", \"content\": system_text},\n",
    "            {\"role\": \"user\", \"content\": user_text}]\n",
    "    )\n",
    "    return output[\"choices\"][0][\"message\"][\"content\"]\n",
    "\n",
    "\n",
    "def remove_control_chars(text):\n",
    "    return text.replace('\\n', '').replace(' ', '')"
   ]
  },
  {
   "cell_type": "code",
   "execution_count": null,
   "metadata": {},
   "outputs": [],
   "source": [
    "results = []"
   ]
  },
  {
   "cell_type": "code",
   "execution_count": null,
   "metadata": {},
   "outputs": [],
   "source": [
    "for i, doc in enumerate(targets[:50]):\n",
    "    print(i)\n",
    "    surface = make_surface(doc)\n",
    "    pred_yomi_via_ja = remove_control_chars(gpt_predict(f\"{instruct_ja}\\n\\n{shots}\", f\"input:\\n{surface}\\noutput:\\n\"))\n",
    "    pred_yomi_via_en = remove_control_chars(gpt_predict(f\"{instruct_en}\\n\\n{shots}\", f\"input:\\n{surface}\\noutput:\\n\"))\n",
    "    gold_yomi = remove_control_chars(make_yomi(doc))\n",
    "    dist_ja= editdistance.eval(pred_yomi_via_ja, gold_yomi)\n",
    "    dist_en= editdistance.eval(pred_yomi_via_en, gold_yomi)\n",
    "    rs = {\n",
    "        'input': remove_control_chars(surface),\n",
    "        'gold_yomi': gold_yomi,\n",
    "        'ja': {'pred': pred_yomi_via_ja, 'dist': dist_ja},\n",
    "        'en': {'pred': pred_yomi_via_en, 'dist': dist_en}\n",
    "    }\n",
    "    results.append(rs)"
   ]
  },
  {
   "cell_type": "code",
   "execution_count": null,
   "metadata": {},
   "outputs": [],
   "source": [
    "with open(f'yomi_results_{num}shots.json', 'wt') as f:\n",
    "    json.dump(results, f, ensure_ascii=False, indent=4)"
   ]
  },
  {
   "cell_type": "code",
   "execution_count": null,
   "metadata": {},
   "outputs": [],
   "source": [
    "dists_ja = []\n",
    "dists_en = []\n",
    "for rs in results:\n",
    "    dists_ja.append(rs['ja']['dist'])\n",
    "    dists_en.append(rs['en']['dist'])\n",
    "\n",
    "ja_beats_en = 0\n",
    "en_beats_ja = 0\n",
    "draw = 0\n",
    "for j, e in zip(dists_ja, dists_en):\n",
    "    if j < e: ja_beats_en += 1\n",
    "    elif e < j: en_beats_ja += 1\n",
    "    else: draw += 1\n",
    "print(f\"{ja_beats_en}, {en_beats_ja}, {draw}\")"
   ]
  },
  {
   "cell_type": "code",
   "execution_count": null,
   "metadata": {},
   "outputs": [],
   "source": [
    "print(sum(dists_ja) / len(dists_ja))\n",
    "print(sum(dists_en) / len(dists_en))"
   ]
  },
  {
   "cell_type": "code",
   "execution_count": null,
   "metadata": {},
   "outputs": [],
   "source": [
    "print(len([d for d in dists_ja if d == 0]))\n",
    "print(len([d for d in dists_en if d == 0]))"
   ]
  },
  {
   "cell_type": "code",
   "execution_count": null,
   "metadata": {},
   "outputs": [],
   "source": []
  }
 ],
 "metadata": {
  "kernelspec": {
   "display_name": "Python 3.9.15 64-bit ('3.9.15')",
   "language": "python",
   "name": "python3"
  },
  "language_info": {
   "codemirror_mode": {
    "name": "ipython",
    "version": 3
   },
   "file_extension": ".py",
   "mimetype": "text/x-python",
   "name": "python",
   "nbconvert_exporter": "python",
   "pygments_lexer": "ipython3",
   "version": "3.9.15"
  },
  "orig_nbformat": 4,
  "vscode": {
   "interpreter": {
    "hash": "44e4d21ad36c01ec66bbf984a5fd1cdab74190ca6028b10bd102f7ffba5426af"
   }
  }
 },
 "nbformat": 4,
 "nbformat_minor": 2
}
